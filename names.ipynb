{
 "cells": [
  {
   "cell_type": "markdown",
   "metadata": {},
   "source": [
    "$$\n",
    "\\textbf{Names} \\\\ . \\\\\n",
    "N \\text{ - blocks per year - } \\textbf{[blk/y]} \\\\\n",
    "R \\text{ - rewards per year - } \\textbf{[\\$/y]} \\\\\n",
    "r \\text{ - rewards per block - } \\textbf{[\\$/y]} \\\\\n",
    "i \\text{ - annual interest rate - } \\textbf{[.]} \\\\ . \\\\\n",
    "H \\text{ - network hashing power per block - } \\textbf{[TH/blk]} \\\\\n",
    "e_{asic} \\text{ - ASIC efficiency - } \\textbf{[Kwh/TH]} \\\\\n",
    "c_{asic} \\text{ - ASIC cost - } \\textbf{[\\$/TH]} \\\\\n",
    "c_e \\text{ - electricity cost - } \\textbf{[\\$/Kwh]} \\\\ . \\\\\n",
    "p \\text{ - miner profit per year - } \\textbf{[\\$/y]} \\\\\n",
    "hdc \\text{ - handicap per year - } \\textbf{[\\$/y]} \\\\\n",
    "$$"
   ]
  }
 ],
 "metadata": {
  "kernelspec": {
   "display_name": "Python 3",
   "language": "python",
   "name": "python3"
  },
  "language_info": {
   "codemirror_mode": {
    "name": "ipython",
    "version": 3
   },
   "file_extension": ".py",
   "mimetype": "text/x-python",
   "name": "python",
   "nbconvert_exporter": "python",
   "pygments_lexer": "ipython3",
   "version": "3.5.2"
  }
 },
 "nbformat": 4,
 "nbformat_minor": 1
}
