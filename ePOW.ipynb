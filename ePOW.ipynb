{
 "cells": [
  {
   "cell_type": "markdown",
   "metadata": {},
   "source": [
    "$$\n",
    "\\textbf{First we find H (haspower per block)} \\\\ . \\\\\n",
    "PROFIT = REWARD - COST \\\\ . \\\\\n",
    "PROFIT = i \\times COST\\\\ . \\\\\n",
    "REWARD = \\frac{R}{N}\\\\ . \\\\\n",
    "COST = \\frac{R}{N(1+i)}\\\\ . \\\\\n",
    "COST = H \\times c_e\\times  e_{asic}\\\\ . \\\\\n",
    "H\\times  c_e\\times  e_asic = \\frac{R}{N(1+i)}\\\\ . \\\\\n",
    "H = \\frac{R}{N(1+i)(c_e\\times  e_{asic})}\\\\ . \\\\\n",
    "$$\n",
    "$$\n",
    "\\textbf{Then we find the efficiency} \\\\ . \\\\\n",
    "e_{pow} = \\frac{attackCost}{rewardPerBlock} =  \\frac{0.5 \\times H \\times c_{asic} + H \\times c_e \\times e_asic}{\\frac{R}{N}} \\\\ . \\\\\n",
    "e_{pow} = \\frac{H(1.01 \\times c_{asic} + c_e \\times e_{asic}}{\\frac{R}{N}} \\\\ . \\\\\n",
    "e_{pow} = \\frac{\\frac{R}{N(1+i)(c_e\\times e_{asic}}(1.01\\times c_{asic} + c_e \\times e_{asic})}{\\frac{R}{N}} \\\\ . \\\\\n",
    "e_{pow} = \\frac{1.01\\times c_{asic} + c_e \\times e_{asic}}{(1+i)(c_e)\\times e_{asic}} \\\\ . \\\\\n",
    "e_{pow} = \\frac{1}{1+i}(1+1.01)\\frac{c_{asic}}{c_e\\times e_{asic}}\n",
    "$$\n"
   ]
  }
 ],
 "metadata": {
  "kernelspec": {
   "display_name": "Python 3",
   "language": "python",
   "name": "python3"
  },
  "language_info": {
   "codemirror_mode": {
    "name": "ipython",
    "version": 3
   },
   "file_extension": ".py",
   "mimetype": "text/x-python",
   "name": "python",
   "nbconvert_exporter": "python",
   "pygments_lexer": "ipython3",
   "version": "3.5.2"
  }
 },
 "nbformat": 4,
 "nbformat_minor": 1
}
